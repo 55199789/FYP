{
 "cells": [
  {
   "cell_type": "code",
   "execution_count": null,
   "id": "c0eb8b18",
   "metadata": {},
   "outputs": [],
   "source": [
    "import os\n",
    "from multiprocessing import Pool \n",
    "dims = [100000*i for i in range(1, 6)]\n",
    "rho = ['', 0.02, 0.1]\n",
    "clientNums = [100*i for i in range(1, 6)]"
   ]
  },
  {
   "cell_type": "code",
   "execution_count": 1,
   "id": "898ed42e",
   "metadata": {},
   "outputs": [
    {
     "ename": "NameError",
     "evalue": "name 'os' is not defined",
     "output_type": "error",
     "traceback": [
      "\u001b[0;31m---------------------------------------------------------------------------\u001b[0m",
      "\u001b[0;31mNameError\u001b[0m                                 Traceback (most recent call last)",
      "\u001b[0;32m<ipython-input-1-c4eafb8ec321>\u001b[0m in \u001b[0;36m<module>\u001b[0;34m\u001b[0m\n\u001b[0;32m----> 1\u001b[0;31m \u001b[0mos\u001b[0m\u001b[0;34m.\u001b[0m\u001b[0msystem\u001b[0m\u001b[0;34m(\u001b[0m\u001b[0;34m\"make clean\"\u001b[0m\u001b[0;34m)\u001b[0m\u001b[0;34m\u001b[0m\u001b[0;34m\u001b[0m\u001b[0m\n\u001b[0m\u001b[1;32m      2\u001b[0m \u001b[0mos\u001b[0m\u001b[0;34m.\u001b[0m\u001b[0msystem\u001b[0m\u001b[0;34m(\u001b[0m\u001b[0;34m\"make -j4\"\u001b[0m\u001b[0;34m)\u001b[0m\u001b[0;34m\u001b[0m\u001b[0;34m\u001b[0m\u001b[0m\n",
      "\u001b[0;31mNameError\u001b[0m: name 'os' is not defined"
     ]
    }
   ],
   "source": [
    "os.system(\"make clean\")\n",
    "os.system(\"make -j4\")"
   ]
  },
  {
   "cell_type": "code",
   "execution_count": null,
   "id": "cf751ae7",
   "metadata": {},
   "outputs": [],
   "source": [
    "for dim in dims:\n",
    "    for survRate in survRates:\n",
    "        for clientNum in clientNums:\n",
    "            cmd = \"./app \"+str(clientNum)+\" \"+str(dim)+\" \"+str(survRate)+\" >> output/\"+str(clientNum)+\"_\"+str(dim)+\"_\"+str(survRate)+\".out\"\n",
    "            for t in times(100):\n",
    "            os.system(cmd)"
   ]
  }
 ],
 "metadata": {
  "kernelspec": {
   "display_name": "Python 3",
   "language": "python",
   "name": "python3"
  },
  "language_info": {
   "codemirror_mode": {
    "name": "ipython",
    "version": 3
   },
   "file_extension": ".py",
   "mimetype": "text/x-python",
   "name": "python",
   "nbconvert_exporter": "python",
   "pygments_lexer": "ipython3",
   "version": "3.6.9"
  }
 },
 "nbformat": 4,
 "nbformat_minor": 5
}
