{
 "cells": [
  {
   "cell_type": "markdown",
   "id": "f4fd557a",
   "metadata": {},
   "source": [
    "# Generate data"
   ]
  },
  {
   "cell_type": "code",
   "execution_count": 1,
   "id": "490df73f",
   "metadata": {},
   "outputs": [],
   "source": [
    "import os\n",
    "dims = [100000*i for i in range(1, 6)]\n",
    "rhos = ['', 0.02, 0.1]\n",
    "clientNums = [100*i for i in range(1, 6)]"
   ]
  },
  {
   "cell_type": "raw",
   "id": "5e4041ae",
   "metadata": {},
   "source": [
    "os.system(\"make clean\")\n",
    "os.system(\"make -j4\")"
   ]
  },
  {
   "cell_type": "raw",
   "id": "5057cf46",
   "metadata": {},
   "source": [
    "for dim in dims:\n",
    "    for rho in rhos:\n",
    "        for clientNum in clientNums:\n",
    "            cmd = \"./app \"+str(clientNum)+\" \"+str(dim)+\" \"+str(rho)+\" >> output/\"+str(clientNum)+\"_\"+str(dim)+\"_\"+str(rho)+\".out\"\n",
    "            print(cmd)\n",
    "            for t in range(100):\n",
    "                os.system(cmd)\n",
    "            print(\"\\tcompleted!\\n\")"
   ]
  },
  {
   "cell_type": "markdown",
   "id": "eb177937",
   "metadata": {},
   "source": [
    "# Process Practical Secure Aggregation Data"
   ]
  },
  {
   "cell_type": "code",
   "execution_count": 2,
   "id": "b7ac52e8",
   "metadata": {},
   "outputs": [],
   "source": [
    "import numpy as np\n",
    "import matplotlib.pyplot as plt\n",
    "survRates = [1, 0.9]\n",
    "labels = [\"[12] w/o dropout\", \"[12] w/ 10% dropout\", \\\n",
    "          \"Ours w/o compression\", r\"Ours w/ $rho=0.1$\", r\"Ours w/o $rho=0.02$\"]\n",
    "colors = [\"C0\", \"C1\", \"C2\", \"C3\", \"C4\"]"
   ]
  },
  {
   "cell_type": "code",
   "execution_count": 3,
   "id": "499139e0",
   "metadata": {},
   "outputs": [],
   "source": [
    "clientTimesP = {}\n",
    "serverTimesP = {}\n",
    "clientTimesP_std = {}\n",
    "serverTimesP_std = {}\n",
    "\n",
    "for clientNum in clientNums:\n",
    "    clientTimesP[clientNum]={}\n",
    "    serverTimesP[clientNum]={}\n",
    "    clientTimesP_std[clientNum]={}\n",
    "    serverTimesP_std[clientNum]={}\n",
    "    for dim in dims:\n",
    "        clientTimesP[clientNum][dim]={}\n",
    "        serverTimesP[clientNum][dim]={}\n",
    "        clientTimesP_std[clientNum][dim]={}\n",
    "        serverTimesP_std[clientNum][dim]={}\n",
    "        for survRate in survRates:\n",
    "            fileName = \"../PracSecure/output/\"+str(clientNum)+\"_\"+str(dim)+\"_\"+str(survRate)+\".out\"\n",
    "            f = open(fileName)\n",
    "            clientTime = []\n",
    "            serverTime = []\n",
    "            lines = f.readlines()\n",
    "            times = len(lines) // 11\n",
    "            for i in range(times):\n",
    "                l1 = lines[i*11+9]\n",
    "                l2 = lines[i*11+10]\n",
    "                clientTime.append(float(l1[l1.rfind(\"\\t\"):-3]))\n",
    "                serverTime.append(float(l2[l2.rfind(\"\\t\"):-3]))\n",
    "            clientTimesP[clientNum][dim][survRate]=np.mean(clientTime)\n",
    "            serverTimesP[clientNum][dim][survRate]=np.mean(serverTime)\n",
    "            clientTimesP_std[clientNum][dim][survRate]=np.std(clientTime)\n",
    "            serverTimesP_std[clientNum][dim][survRate]=np.std(serverTime)"
   ]
  },
  {
   "cell_type": "markdown",
   "id": "c64ee7f1",
   "metadata": {},
   "source": [
    "# Process Our Protocol"
   ]
  },
  {
   "cell_type": "code",
   "execution_count": 7,
   "id": "6aaa9515",
   "metadata": {},
   "outputs": [
    {
     "name": "stdout",
     "output_type": "stream",
     "text": [
      "output/100_100000_.out\n",
      "output/100_100000_0.02.out\n",
      "output/100_100000_0.1.out\n",
      "output/100_200000_.out\n",
      "output/100_200000_0.02.out\n",
      "output/100_200000_0.1.out\n",
      "output/100_300000_.out\n",
      "output/100_300000_0.02.out\n",
      "output/100_300000_0.1.out\n",
      "output/100_400000_.out\n",
      "output/100_400000_0.02.out\n",
      "output/100_400000_0.1.out\n",
      "output/100_500000_.out\n",
      "output/100_500000_0.02.out\n"
     ]
    },
    {
     "ename": "IndexError",
     "evalue": "list index out of range",
     "output_type": "error",
     "traceback": [
      "\u001b[0;31m---------------------------------------------------------------------------\u001b[0m",
      "\u001b[0;31mIndexError\u001b[0m                                Traceback (most recent call last)",
      "\u001b[0;32m<ipython-input-7-3a06fed1d168>\u001b[0m in \u001b[0;36m<module>\u001b[0;34m\u001b[0m\n\u001b[1;32m     36\u001b[0m                 \u001b[0;32melse\u001b[0m\u001b[0;34m:\u001b[0m\u001b[0;34m\u001b[0m\u001b[0;34m\u001b[0m\u001b[0m\n\u001b[1;32m     37\u001b[0m                     \u001b[0mst\u001b[0m \u001b[0;34m=\u001b[0m \u001b[0mi\u001b[0m\u001b[0;34m*\u001b[0m\u001b[0;36m32\u001b[0m\u001b[0;34m\u001b[0m\u001b[0;34m\u001b[0m\u001b[0m\n\u001b[0;32m---> 38\u001b[0;31m                     \u001b[0ml1\u001b[0m \u001b[0;34m=\u001b[0m \u001b[0mlines\u001b[0m\u001b[0;34m[\u001b[0m\u001b[0mst\u001b[0m\u001b[0;34m+\u001b[0m\u001b[0;36m14\u001b[0m\u001b[0;34m]\u001b[0m\u001b[0;34m\u001b[0m\u001b[0;34m\u001b[0m\u001b[0m\n\u001b[0m\u001b[1;32m     39\u001b[0m                     \u001b[0ml2\u001b[0m \u001b[0;34m=\u001b[0m \u001b[0mlines\u001b[0m\u001b[0;34m[\u001b[0m\u001b[0mst\u001b[0m\u001b[0;34m+\u001b[0m\u001b[0;36m18\u001b[0m\u001b[0;34m]\u001b[0m\u001b[0;34m\u001b[0m\u001b[0;34m\u001b[0m\u001b[0m\n\u001b[1;32m     40\u001b[0m                     \u001b[0ml3\u001b[0m \u001b[0;34m=\u001b[0m \u001b[0mlines\u001b[0m\u001b[0;34m[\u001b[0m\u001b[0mst\u001b[0m\u001b[0;34m+\u001b[0m\u001b[0;36m12\u001b[0m\u001b[0;34m]\u001b[0m\u001b[0;34m\u001b[0m\u001b[0;34m\u001b[0m\u001b[0m\n",
      "\u001b[0;31mIndexError\u001b[0m: list index out of range"
     ]
    }
   ],
   "source": [
    "clientTimes = {}\n",
    "serverTimes = {}\n",
    "clientTimes_std = {}\n",
    "serverTimes_std = {}\n",
    "\n",
    "for clientNum in clientNums:\n",
    "    clientTimes[clientNum]={}\n",
    "    serverTimes[clientNum]={}\n",
    "    clientTimes_std[clientNum]={}\n",
    "    serverTimes_std[clientNum]={}\n",
    "    for dim in dims:\n",
    "        clientTimes[clientNum][dim]={}\n",
    "        serverTimes[clientNum][dim]={}\n",
    "        clientTimes_std[clientNum][dim]={}\n",
    "        serverTimes_std[clientNum][dim]={}\n",
    "        for rho in rhos:\n",
    "            fileName = \"output/\"+str(clientNum)+\"_\"+str(dim)+\"_\"+str(rho)+\".out\"\n",
    "            f = open(fileName)\n",
    "            clientTime = []\n",
    "            serverTime = []\n",
    "            serverKA = []\n",
    "            serverAggr = []\n",
    "            serverComp = []\n",
    "            lines = f.readlines()\n",
    "            if (rho==''):\n",
    "                times = len(lines)/29\n",
    "            else:\n",
    "                times = len(lines)/32\n",
    "            for i in range(times):\n",
    "                if (rho==''):\n",
    "                    st = i*29\n",
    "                    l1 = lines[st+14]\n",
    "                    l2 = lines[st+17]\n",
    "                    l3 = lines[st+12]\n",
    "                    l4 = lines[st+21]\n",
    "                    l5 = lines[st+25]\n",
    "                    l6 = \": 0ms\"\n",
    "                else:\n",
    "                    st = i*32\n",
    "                    l1 = lines[st+14]\n",
    "                    l2 = lines[st+18]\n",
    "                    l3 = lines[st+12]\n",
    "                    l4 = lines[st+22]\n",
    "                    l5 = lines[st+28]\n",
    "                    l6 = lines[st+26]\n",
    "                clientTime.append(float(l1[l1.find(\":\")+1:-3]) +\n",
    "                                    float(l2[l2.find(\":\")+1:l2.find(\"ms\")]))\n",
    "                serverTime.append(float(l5[l5.find(\":\")+1:l5.find(\"ms\")]))\n",
    "                serverKA.append(float(l3[l3.find(\":\")+1:-3]))\n",
    "                serverAggr.append(float(l4[l4.find(\":\")+1:l4.find(\"ms\")]))\n",
    "                serverComp.append(float(l6[l6.find(\":\")+1:l6.find(\"ms\")]))                \n",
    "            clientTimes[clientNum][dim][rho]=np.mean(clientTime)\n",
    "            serverTimes[clientNum][dim][rho]=np.mean(serverTime)\n",
    "#             serverTimesKA[clientNum][dim][rho]=np.mean(serverKA)\n",
    "#             serverTimesAggr[clientNum][dim][rho]=np.mean(serverAggr)\n",
    "#             serverTimesComp[clientNum][dim][rho]=np.mean(serverComp)\n",
    "            clientTimes_std[clientNum][dim][rho]=np.std(clientTime)\n",
    "            serverTimes_std[clientNum][dim][rho]=np.std(serverTime)"
   ]
  },
  {
   "cell_type": "markdown",
   "id": "8714c1a2",
   "metadata": {},
   "source": [
    "# Plot line chart"
   ]
  },
  {
   "cell_type": "markdown",
   "id": "b15504ff",
   "metadata": {},
   "source": [
    "## x-axis: dim - client"
   ]
  },
  {
   "cell_type": "code",
   "execution_count": null,
   "id": "ceb9818e",
   "metadata": {},
   "outputs": [],
   "source": [
    "for clientNum in clientNums:\n",
    "    y = [[] for i in range(2+3)]\n",
    "    e = [[] for i in range(2+3)]\n",
    "    for dim in dims:\n",
    "        for i in range(2):\n",
    "            y[i].append(clientTimesP[clientNum][dim][survRates[i]])\n",
    "            e[i].append(clientTimesP_std[clientNum][dim][survRates[i]])\n",
    "        for i in range(3):\n",
    "            y[i].append(clientTimes[clientNum][dim][rhos[i]])\n",
    "            e[i].append(clientTimes_std[clientNum][dim][rhos[i]])\n",
    "    plt.figures()\n",
    "    for i in range(5):\n",
    "        plt.plot(dims, y[i], label = labels[i], color=colors[i])\n",
    "        plt.errorbar(dims, y[i], e[i], color=colors[i])\n",
    "    plt.xlabel(\"Update vector size\", fontweight=\"bold\")\n",
    "    plt.ylabel(\"Running time for each client\", fontweight=\"bold\")\n",
    "    plt.legend(prop={'weight':'bold'})\n",
    "    plt.title(\"The number of clients is fixed to \"+str(clientNum))\n",
    "    plt.savefig(\"imgs/ClientCN\"+str(clientNum)+\".png\", dpi=300)"
   ]
  },
  {
   "cell_type": "markdown",
   "id": "b6633886",
   "metadata": {},
   "source": [
    "## x-axis: dim - server"
   ]
  },
  {
   "cell_type": "code",
   "execution_count": null,
   "id": "9bb3b8cb",
   "metadata": {},
   "outputs": [],
   "source": [
    "for clientNum in clientNums:\n",
    "    y = [[] for i in range(2+3)]\n",
    "    e = [[] for i in range(2+3)]\n",
    "    for dim in dims:\n",
    "        for i in range(2):\n",
    "            y[i].append(serverTimesP[clientNum][dim][survRates[i]])\n",
    "            e[i].append(serverTimesP_std[clientNum][dim][survRates[i]])\n",
    "        for i in range(3):\n",
    "            y[i].append(serverTimes[clientNum][dim][rhos[i]])\n",
    "            e[i].append(serverTimes_std[clientNum][dim][rhos[i]])\n",
    "    plt.figures()\n",
    "    for i in range(5):\n",
    "        plt.plot(dims, y[i], label = labels[i], color=colors[i])\n",
    "        plt.errorbar(dims, y[i], e[i], color=colors[i])\n",
    "    plt.xlabel(\"Update vector size\", fontweight=\"bold\")\n",
    "    plt.ylabel(\"Running time for the server\", fontweight=\"bold\")\n",
    "    plt.legend(prop={'weight':'bold'})\n",
    "    plt.title(\"The number of clients is fixed to \"+str(clientNum))\n",
    "    plt.savefig(\"imgs/ServerCN\"+str(clientNum)+\".png\", dpi=300)"
   ]
  },
  {
   "cell_type": "markdown",
   "id": "3c47c967",
   "metadata": {},
   "source": [
    "## x-axis: clientNum - client"
   ]
  },
  {
   "cell_type": "code",
   "execution_count": null,
   "id": "a3749ae6",
   "metadata": {},
   "outputs": [],
   "source": [
    "for dim in dims:\n",
    "    y = [[] for i in range(2+3)]\n",
    "    e = [[] for i in range(2+3)]\n",
    "    for clientNum in clientNums:\n",
    "        for i in range(2):\n",
    "            y[i].append(clientTimesP[clientNum][dim][survRates[i]])\n",
    "            e[i].append(clientTimesP_std[clientNum][dim][survRates[i]])\n",
    "        for i in range(3):\n",
    "            y[i].append(clientTimes[clientNum][dim][rhos[i]])\n",
    "            e[i].append(clientTimes_std[clientNum][dim][rhos[i]])\n",
    "    plt.figures()\n",
    "    for i in range(5):\n",
    "        plt.plot(dims, y[i], label = labels[i], color=colors[i])\n",
    "        plt.errorbar(dims, y[i], e[i], color=colors[i])\n",
    "    plt.xlabel(\"The number of clients\", fontweight=\"bold\")\n",
    "    plt.ylabel(\"Running time for each client\", fontweight=\"bold\")\n",
    "    plt.legend(prop={'weight':'bold'})\n",
    "    plt.title(\"The length of update vector is fixed to \"+str(dim))\n",
    "    plt.savefig(\"imgs/ClientDIM\"+str(dim)+\".png\", dpi=300)"
   ]
  },
  {
   "cell_type": "markdown",
   "id": "4731138f",
   "metadata": {},
   "source": [
    "## x-axis: clientNum - server"
   ]
  },
  {
   "cell_type": "code",
   "execution_count": null,
   "id": "d3b19e6a",
   "metadata": {},
   "outputs": [],
   "source": [
    "for dim in dims:\n",
    "    y = [[] for i in range(2+3)]\n",
    "    e = [[] for i in range(2+3)]\n",
    "    for clientNum in clientNums:\n",
    "        for i in range(2):\n",
    "            y[i].append(serverTimesP[clientNum][dim][survRates[i]])\n",
    "            e[i].append(serverTimesP_std[clientNum][dim][survRates[i]])\n",
    "        for i in range(3):\n",
    "            y[i].append(serverTimes[clientNum][dim][rhos[i]])\n",
    "            e[i].append(serverTimes_std[clientNum][dim][rhos[i]])\n",
    "    plt.figures()\n",
    "    for i in range(5):\n",
    "        plt.plot(dims, y[i], label = labels[i], color=colors[i])\n",
    "        plt.errorbar(dims, y[i], e[i], color=colors[i])\n",
    "    plt.xlabel(\"The number of clients\", fontweight=\"bold\")\n",
    "    plt.ylabel(\"Running time for the server\", fontweight=\"bold\")\n",
    "    plt.legend(prop={'weight':'bold'})\n",
    "    plt.title(\"The length of update vector is fixed to \"+str(dim))\n",
    "    plt.savefig(\"imgs/ServerDIM\"+str(dim)+\".png\", dpi=300)"
   ]
  },
  {
   "cell_type": "code",
   "execution_count": null,
   "id": "8d3de4a3",
   "metadata": {},
   "outputs": [],
   "source": []
  }
 ],
 "metadata": {
  "kernelspec": {
   "display_name": "Python 3",
   "language": "python",
   "name": "python3"
  },
  "language_info": {
   "codemirror_mode": {
    "name": "ipython",
    "version": 3
   },
   "file_extension": ".py",
   "mimetype": "text/x-python",
   "name": "python",
   "nbconvert_exporter": "python",
   "pygments_lexer": "ipython3",
   "version": "3.6.9"
  }
 },
 "nbformat": 4,
 "nbformat_minor": 5
}
